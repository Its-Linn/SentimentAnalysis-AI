{
 "cells": [
  {
   "cell_type": "code",
   "execution_count": 1,
   "metadata": {},
   "outputs": [],
   "source": [
    "import preprocessor as p\n",
    "from textblob import TextBlob\n",
    "from nltk.tokenize import word_tokenize\n",
    "from nltk.stem import PorterStemmer\n",
    "from nltk.corpus import stopwords\n",
    "import nltk\n",
    "import pandas as pd\n",
    "import re"
   ]
  },
  {
   "cell_type": "code",
   "execution_count": 2,
   "metadata": {},
   "outputs": [
    {
     "name": "stdout",
     "output_type": "stream",
     "text": [
      "<class 'pandas.core.frame.DataFrame'>\n",
      "RangeIndex: 525 entries, 0 to 524\n",
      "Data columns (total 15 columns):\n",
      " #   Column                   Non-Null Count  Dtype \n",
      "---  ------                   --------------  ----- \n",
      " 0   conversation_id_str      525 non-null    int64 \n",
      " 1   created_at               525 non-null    object\n",
      " 2   favorite_count           525 non-null    int64 \n",
      " 3   full_text                525 non-null    object\n",
      " 4   id_str                   525 non-null    int64 \n",
      " 5   image_url                196 non-null    object\n",
      " 6   in_reply_to_screen_name  22 non-null     object\n",
      " 7   lang                     525 non-null    object\n",
      " 8   location                 420 non-null    object\n",
      " 9   quote_count              525 non-null    int64 \n",
      " 10  reply_count              525 non-null    int64 \n",
      " 11  retweet_count            525 non-null    int64 \n",
      " 12  tweet_url                525 non-null    object\n",
      " 13  user_id_str              525 non-null    int64 \n",
      " 14  username                 525 non-null    object\n",
      "dtypes: int64(7), object(8)\n",
      "memory usage: 61.7+ KB\n"
     ]
    }
   ],
   "source": [
    "data = pd.read_csv('combined_dataset.csv')\n",
    "data.info()"
   ]
  },
  {
   "cell_type": "code",
   "execution_count": 3,
   "metadata": {},
   "outputs": [
    {
     "data": {
      "text/html": [
       "<div>\n",
       "<style scoped>\n",
       "    .dataframe tbody tr th:only-of-type {\n",
       "        vertical-align: middle;\n",
       "    }\n",
       "\n",
       "    .dataframe tbody tr th {\n",
       "        vertical-align: top;\n",
       "    }\n",
       "\n",
       "    .dataframe thead th {\n",
       "        text-align: right;\n",
       "    }\n",
       "</style>\n",
       "<table border=\"1\" class=\"dataframe\">\n",
       "  <thead>\n",
       "    <tr style=\"text-align: right;\">\n",
       "      <th></th>\n",
       "      <th>username</th>\n",
       "      <th>full_text</th>\n",
       "    </tr>\n",
       "  </thead>\n",
       "  <tbody>\n",
       "    <tr>\n",
       "      <th>301</th>\n",
       "      <td>kompascom</td>\n",
       "      <td>Investasi Microsoft senilai 1 7 miliar dollar ...</td>\n",
       "    </tr>\n",
       "    <tr>\n",
       "      <th>312</th>\n",
       "      <td>tempodotco</td>\n",
       "      <td>Microsoft Luncurkan AI Founders Club di Indone...</td>\n",
       "    </tr>\n",
       "    <tr>\n",
       "      <th>504</th>\n",
       "      <td>bernamadotcom</td>\n",
       "      <td>RM150 000 untuk Pertis Perkam beli mesin pembe...</td>\n",
       "    </tr>\n",
       "    <tr>\n",
       "      <th>422</th>\n",
       "      <td>UMonline</td>\n",
       "      <td>Merekayasa masa depan Malaysia dinamik bersama...</td>\n",
       "    </tr>\n",
       "    <tr>\n",
       "      <th>113</th>\n",
       "      <td>cnbcindonesia</td>\n",
       "      <td>Urgensi Memaksimalkan Potensi Kecerdasan Buata...</td>\n",
       "    </tr>\n",
       "  </tbody>\n",
       "</table>\n",
       "</div>"
      ],
      "text/plain": [
       "          username                                          full_text\n",
       "301      kompascom  Investasi Microsoft senilai 1 7 miliar dollar ...\n",
       "312     tempodotco  Microsoft Luncurkan AI Founders Club di Indone...\n",
       "504  bernamadotcom  RM150 000 untuk Pertis Perkam beli mesin pembe...\n",
       "422       UMonline  Merekayasa masa depan Malaysia dinamik bersama...\n",
       "113  cnbcindonesia  Urgensi Memaksimalkan Potensi Kecerdasan Buata..."
      ]
     },
     "execution_count": 3,
     "metadata": {},
     "output_type": "execute_result"
    }
   ],
   "source": [
    "data = data[['username','full_text']]\n",
    "data.sample(n=5)"
   ]
  },
  {
   "cell_type": "code",
   "execution_count": 4,
   "metadata": {},
   "outputs": [
    {
     "name": "stderr",
     "output_type": "stream",
     "text": [
      "[nltk_data] Downloading package punkt to\n",
      "[nltk_data]     C:\\Users\\Linn\\AppData\\Roaming\\nltk_data...\n",
      "[nltk_data]   Package punkt is already up-to-date!\n",
      "[nltk_data] Downloading package stopwords to\n",
      "[nltk_data]     C:\\Users\\Linn\\AppData\\Roaming\\nltk_data...\n",
      "[nltk_data]   Package stopwords is already up-to-date!\n"
     ]
    },
    {
     "data": {
      "text/plain": [
       "True"
      ]
     },
     "execution_count": 4,
     "metadata": {},
     "output_type": "execute_result"
    }
   ],
   "source": [
    "nltk.download('punkt')\n",
    "nltk.download('stopwords')"
   ]
  },
  {
   "cell_type": "code",
   "execution_count": 6,
   "metadata": {},
   "outputs": [],
   "source": [
    "stemmer = PorterStemmer()\n",
    "stop_words = set(stopwords.words('indonesian'))"
   ]
  },
  {
   "cell_type": "code",
   "execution_count": 7,
   "metadata": {},
   "outputs": [],
   "source": [
    "def preprocessing_data(x):\n",
    "    return p.clean(x)\n",
    "\n",
    "def tokenize_data(x):\n",
    "    return p.tokenize(x)\n",
    "\n",
    "def clean_text(text):\n",
    "    text = re.sub(r'http\\S+', '', text)\n",
    "    text = re.sub(r'@\\w+', '', text)\n",
    "    text = re.sub(r'#', '', text)\n",
    "    text = re.sub(r'\\d+', '', text)\n",
    "    text = re.sub(r'[^\\w\\s]', '', text)\n",
    "    text = text.lower()\n",
    "    words = word_tokenize(text) \n",
    "    words = [stemmer.stem(word) for word in words if word not in stop_words]\n",
    "    return ' '.join(words)\n",
    "\n",
    "\n",
    "data['tweet_clean'] = data['full_text'].apply(clean_text)\n",
    "data = data.drop_duplicates()"
   ]
  },
  {
   "cell_type": "code",
   "execution_count": 8,
   "metadata": {},
   "outputs": [
    {
     "data": {
      "text/html": [
       "<div>\n",
       "<style scoped>\n",
       "    .dataframe tbody tr th:only-of-type {\n",
       "        vertical-align: middle;\n",
       "    }\n",
       "\n",
       "    .dataframe tbody tr th {\n",
       "        vertical-align: top;\n",
       "    }\n",
       "\n",
       "    .dataframe thead th {\n",
       "        text-align: right;\n",
       "    }\n",
       "</style>\n",
       "<table border=\"1\" class=\"dataframe\">\n",
       "  <thead>\n",
       "    <tr style=\"text-align: right;\">\n",
       "      <th></th>\n",
       "      <th>username</th>\n",
       "      <th>full_text</th>\n",
       "      <th>tweet_clean</th>\n",
       "    </tr>\n",
       "  </thead>\n",
       "  <tbody>\n",
       "    <tr>\n",
       "      <th>0</th>\n",
       "      <td>aimr0d</td>\n",
       "      <td>Kecerdasan buatan ketika dipertemukan kedungua...</td>\n",
       "      <td>kecerdasan buatan dipertemukan kedunguan alami</td>\n",
       "    </tr>\n",
       "    <tr>\n",
       "      <th>1</th>\n",
       "      <td>blue_berets7</td>\n",
       "      <td>USA Elon Musk: Chip Neuralink Antichrist akan ...</td>\n",
       "      <td>usa elon musk chip neuralink antichrist muncul...</td>\n",
       "    </tr>\n",
       "    <tr>\n",
       "      <th>2</th>\n",
       "      <td>JapenPahang</td>\n",
       "      <td>Kapsul JAPENTV | AI Untuk Rakyat AI Untuk Raky...</td>\n",
       "      <td>kapsul japentv ai rakyat ai rakyat program pem...</td>\n",
       "    </tr>\n",
       "    <tr>\n",
       "      <th>3</th>\n",
       "      <td>andricuanterus</td>\n",
       "      <td>Bittensor $TAO Fundamental INTRO: Bittensor ($...</td>\n",
       "      <td>bittensor tao fundament intro bittensor tao pr...</td>\n",
       "    </tr>\n",
       "    <tr>\n",
       "      <th>4</th>\n",
       "      <td>JPenerangan</td>\n",
       "      <td>Kapsul JAPENTV | AI Untuk Rakyat AI Untuk Raky...</td>\n",
       "      <td>kapsul japentv ai rakyat ai rakyat program pem...</td>\n",
       "    </tr>\n",
       "  </tbody>\n",
       "</table>\n",
       "</div>"
      ],
      "text/plain": [
       "         username                                          full_text  \\\n",
       "0          aimr0d  Kecerdasan buatan ketika dipertemukan kedungua...   \n",
       "1    blue_berets7  USA Elon Musk: Chip Neuralink Antichrist akan ...   \n",
       "2     JapenPahang  Kapsul JAPENTV | AI Untuk Rakyat AI Untuk Raky...   \n",
       "3  andricuanterus  Bittensor $TAO Fundamental INTRO: Bittensor ($...   \n",
       "4     JPenerangan  Kapsul JAPENTV | AI Untuk Rakyat AI Untuk Raky...   \n",
       "\n",
       "                                         tweet_clean  \n",
       "0     kecerdasan buatan dipertemukan kedunguan alami  \n",
       "1  usa elon musk chip neuralink antichrist muncul...  \n",
       "2  kapsul japentv ai rakyat ai rakyat program pem...  \n",
       "3  bittensor tao fundament intro bittensor tao pr...  \n",
       "4  kapsul japentv ai rakyat ai rakyat program pem...  "
      ]
     },
     "execution_count": 8,
     "metadata": {},
     "output_type": "execute_result"
    }
   ],
   "source": [
    "data.head()"
   ]
  },
  {
   "cell_type": "code",
   "execution_count": 9,
   "metadata": {},
   "outputs": [],
   "source": [
    "from deep_translator import GoogleTranslator\n",
    "def translate_text(text):\n",
    "    translator = GoogleTranslator(source='id', target='en')\n",
    "    return translator.translate(text)\n",
    "\n",
    "data['english_text'] = data['tweet_clean'].apply(translate_text)"
   ]
  },
  {
   "cell_type": "code",
   "execution_count": 10,
   "metadata": {},
   "outputs": [],
   "source": [
    "from textblob import TextBlob\n",
    "\n",
    "def get_sentiment(text):\n",
    "    blob = TextBlob(text)\n",
    "    if blob.sentiment.polarity > 0:\n",
    "        return 'positive'\n",
    "    elif blob.sentiment.polarity < 0:\n",
    "        return 'negative'\n",
    "    else:\n",
    "        return 'neutral'\n",
    "\n",
    "data['label'] = data['english_text'].apply(get_sentiment)"
   ]
  },
  {
   "cell_type": "code",
   "execution_count": 11,
   "metadata": {},
   "outputs": [
    {
     "data": {
      "text/html": [
       "<div>\n",
       "<style scoped>\n",
       "    .dataframe tbody tr th:only-of-type {\n",
       "        vertical-align: middle;\n",
       "    }\n",
       "\n",
       "    .dataframe tbody tr th {\n",
       "        vertical-align: top;\n",
       "    }\n",
       "\n",
       "    .dataframe thead th {\n",
       "        text-align: right;\n",
       "    }\n",
       "</style>\n",
       "<table border=\"1\" class=\"dataframe\">\n",
       "  <thead>\n",
       "    <tr style=\"text-align: right;\">\n",
       "      <th></th>\n",
       "      <th>username</th>\n",
       "      <th>full_text</th>\n",
       "      <th>tweet_clean</th>\n",
       "      <th>english_text</th>\n",
       "      <th>label</th>\n",
       "    </tr>\n",
       "  </thead>\n",
       "  <tbody>\n",
       "    <tr>\n",
       "      <th>0</th>\n",
       "      <td>aimr0d</td>\n",
       "      <td>Kecerdasan buatan ketika dipertemukan kedungua...</td>\n",
       "      <td>kecerdasan buatan dipertemukan kedunguan alami</td>\n",
       "      <td>artificial intelligence meets natural stupidity</td>\n",
       "      <td>negative</td>\n",
       "    </tr>\n",
       "    <tr>\n",
       "      <th>1</th>\n",
       "      <td>blue_berets7</td>\n",
       "      <td>USA Elon Musk: Chip Neuralink Antichrist akan ...</td>\n",
       "      <td>usa elon musk chip neuralink antichrist muncul...</td>\n",
       "      <td>usa elon musk antichrist neuralink chip emerge...</td>\n",
       "      <td>negative</td>\n",
       "    </tr>\n",
       "    <tr>\n",
       "      <th>2</th>\n",
       "      <td>JapenPahang</td>\n",
       "      <td>Kapsul JAPENTV | AI Untuk Rakyat AI Untuk Raky...</td>\n",
       "      <td>kapsul japentv ai rakyat ai rakyat program pem...</td>\n",
       "      <td>capsule japentv ai rakyat ai rakyat online sel...</td>\n",
       "      <td>negative</td>\n",
       "    </tr>\n",
       "    <tr>\n",
       "      <th>3</th>\n",
       "      <td>andricuanterus</td>\n",
       "      <td>Bittensor $TAO Fundamental INTRO: Bittensor ($...</td>\n",
       "      <td>bittensor tao fundament intro bittensor tao pr...</td>\n",
       "      <td>bittensor tao fundament intro bittensor tao de...</td>\n",
       "      <td>negative</td>\n",
       "    </tr>\n",
       "    <tr>\n",
       "      <th>4</th>\n",
       "      <td>JPenerangan</td>\n",
       "      <td>Kapsul JAPENTV | AI Untuk Rakyat AI Untuk Raky...</td>\n",
       "      <td>kapsul japentv ai rakyat ai rakyat program pem...</td>\n",
       "      <td>japentv capsule AI people AI people online ind...</td>\n",
       "      <td>negative</td>\n",
       "    </tr>\n",
       "  </tbody>\n",
       "</table>\n",
       "</div>"
      ],
      "text/plain": [
       "         username                                          full_text  \\\n",
       "0          aimr0d  Kecerdasan buatan ketika dipertemukan kedungua...   \n",
       "1    blue_berets7  USA Elon Musk: Chip Neuralink Antichrist akan ...   \n",
       "2     JapenPahang  Kapsul JAPENTV | AI Untuk Rakyat AI Untuk Raky...   \n",
       "3  andricuanterus  Bittensor $TAO Fundamental INTRO: Bittensor ($...   \n",
       "4     JPenerangan  Kapsul JAPENTV | AI Untuk Rakyat AI Untuk Raky...   \n",
       "\n",
       "                                         tweet_clean  \\\n",
       "0     kecerdasan buatan dipertemukan kedunguan alami   \n",
       "1  usa elon musk chip neuralink antichrist muncul...   \n",
       "2  kapsul japentv ai rakyat ai rakyat program pem...   \n",
       "3  bittensor tao fundament intro bittensor tao pr...   \n",
       "4  kapsul japentv ai rakyat ai rakyat program pem...   \n",
       "\n",
       "                                        english_text     label  \n",
       "0    artificial intelligence meets natural stupidity  negative  \n",
       "1  usa elon musk antichrist neuralink chip emerge...  negative  \n",
       "2  capsule japentv ai rakyat ai rakyat online sel...  negative  \n",
       "3  bittensor tao fundament intro bittensor tao de...  negative  \n",
       "4  japentv capsule AI people AI people online ind...  negative  "
      ]
     },
     "execution_count": 11,
     "metadata": {},
     "output_type": "execute_result"
    }
   ],
   "source": [
    "data.head()"
   ]
  },
  {
   "cell_type": "markdown",
   "metadata": {},
   "source": [
    "Cek Jumlah Data tiap Label"
   ]
  },
  {
   "cell_type": "code",
   "execution_count": 12,
   "metadata": {},
   "outputs": [
    {
     "data": {
      "text/plain": [
       "label\n",
       "negative    205\n",
       "neutral     182\n",
       "positive    135\n",
       "Name: count, dtype: int64"
      ]
     },
     "execution_count": 12,
     "metadata": {},
     "output_type": "execute_result"
    }
   ],
   "source": [
    "jumlah_sampel_per_kelas = data['label'].value_counts()\n",
    "jumlah_sampel_per_kelas\n"
   ]
  },
  {
   "cell_type": "markdown",
   "metadata": {},
   "source": [
    "Cek Proporsi label / tiap kelas"
   ]
  },
  {
   "cell_type": "code",
   "execution_count": 13,
   "metadata": {},
   "outputs": [
    {
     "name": "stdout",
     "output_type": "stream",
     "text": [
      "          count  proportion\n",
      "negative    205    0.392720\n",
      "neutral     182    0.348659\n",
      "positive    135    0.258621\n"
     ]
    }
   ],
   "source": [
    "import pandas as pd\n",
    "\n",
    "# Distribusi label yang Anda berikan\n",
    "jumlah_sampel_per_kelas = data['label'].value_counts()\n",
    "\n",
    "# Mengonversi ke DataFrame untuk kemudahan manipulasi\n",
    "label_df = pd.DataFrame.from_dict(label_counts, orient='index', columns=['count'])\n",
    "\n",
    "# Menghitung total jumlah contoh\n",
    "total_count = label_df['count'].sum()\n",
    "\n",
    "# Menghitung proporsi setiap kelas\n",
    "label_df['proportion'] = label_df['count'] / total_count\n",
    "\n",
    "# Menampilkan proporsi\n",
    "print(label_df)\n"
   ]
  },
  {
   "cell_type": "markdown",
   "metadata": {},
   "source": [
    "Plotting Jumlah Data Tiap Label"
   ]
  },
  {
   "cell_type": "code",
   "execution_count": 22,
   "metadata": {},
   "outputs": [
    {
     "data": {
      "image/png": "[encoded data removed]",
      "text/plain": [
       "<Figure size 800x600 with 1 Axes>"
      ]
     },
     "metadata": {},
     "output_type": "display_data"
    }
   ],
   "source": [
    "import matplotlib.pyplot as plt\n",
    "\n",
    "\n",
    "label_counts = data['label'].value_counts()\n",
    "\n",
    "plt.figure(figsize=(8, 6))\n",
    "plt.bar(label_counts.index, label_counts.values, color=['red', 'blue', 'green'])\n",
    "plt.xlabel('Sentiment Label')\n",
    "plt.ylabel('Number of Tweets')\n",
    "plt.title('Distribution of Sentiment Labels')\n",
    "plt.show()"
   ]
  },
  {
   "cell_type": "code",
   "execution_count": 14,
   "metadata": {},
   "outputs": [],
   "source": [
    "data.to_csv('final-preprocessing.csv')"
   ]
  },
  {
   "cell_type": "code",
   "execution_count": 15,
   "metadata": {},
   "outputs": [
    {
     "data": {
      "text/html": [
       "<div>\n",
       "<style scoped>\n",
       "    .dataframe tbody tr th:only-of-type {\n",
       "        vertical-align: middle;\n",
       "    }\n",
       "\n",
       "    .dataframe tbody tr th {\n",
       "        vertical-align: top;\n",
       "    }\n",
       "\n",
       "    .dataframe thead th {\n",
       "        text-align: right;\n",
       "    }\n",
       "</style>\n",
       "<table border=\"1\" class=\"dataframe\">\n",
       "  <thead>\n",
       "    <tr style=\"text-align: right;\">\n",
       "      <th></th>\n",
       "      <th>tweet_clean</th>\n",
       "      <th>label</th>\n",
       "    </tr>\n",
       "  </thead>\n",
       "  <tbody>\n",
       "    <tr>\n",
       "      <th>0</th>\n",
       "      <td>kecerdasan buatan dipertemukan kedunguan alami</td>\n",
       "      <td>negative</td>\n",
       "    </tr>\n",
       "    <tr>\n",
       "      <th>1</th>\n",
       "      <td>usa elon musk chip neuralink antichrist muncul...</td>\n",
       "      <td>negative</td>\n",
       "    </tr>\n",
       "    <tr>\n",
       "      <th>2</th>\n",
       "      <td>kapsul japentv ai rakyat ai rakyat program pem...</td>\n",
       "      <td>negative</td>\n",
       "    </tr>\n",
       "    <tr>\n",
       "      <th>3</th>\n",
       "      <td>bittensor tao fundament intro bittensor tao pr...</td>\n",
       "      <td>negative</td>\n",
       "    </tr>\n",
       "    <tr>\n",
       "      <th>4</th>\n",
       "      <td>kapsul japentv ai rakyat ai rakyat program pem...</td>\n",
       "      <td>negative</td>\n",
       "    </tr>\n",
       "  </tbody>\n",
       "</table>\n",
       "</div>"
      ],
      "text/plain": [
       "                                         tweet_clean     label\n",
       "0     kecerdasan buatan dipertemukan kedunguan alami  negative\n",
       "1  usa elon musk chip neuralink antichrist muncul...  negative\n",
       "2  kapsul japentv ai rakyat ai rakyat program pem...  negative\n",
       "3  bittensor tao fundament intro bittensor tao pr...  negative\n",
       "4  kapsul japentv ai rakyat ai rakyat program pem...  negative"
      ]
     },
     "execution_count": 15,
     "metadata": {},
     "output_type": "execute_result"
    }
   ],
   "source": [
    "df = data[['tweet_clean','label']]\n",
    "df.head()"
   ]
  },
  {
   "cell_type": "code",
   "execution_count": 18,
   "metadata": {},
   "outputs": [],
   "source": [
    "from sklearn.model_selection import train_test_split\n",
    "from sklearn.feature_extraction.text import TfidfVectorizer\n",
    "\n",
    "# Memisahkan data menjadi fitur dan label\n",
    "X = df['tweet_clean']\n",
    "y = df['label']\n",
    "\n",
    "# Membagi dataset menjadi set pelatihan dan pengujian\n",
    "X_train, X_test, y_train, y_test = train_test_split(X, y, test_size=0.2, random_state=42)\n",
    "\n",
    "# Menggunakan TF-IDF Vectorizer\n",
    "tfidf = TfidfVectorizer(stop_words=None)\n",
    "X_train_tfidf = tfidf.fit_transform(X_train)\n",
    "X_test_tfidf = tfidf.transform(X_test)\n"
   ]
  },
  {
   "cell_type": "code",
   "execution_count": 19,
   "metadata": {},
   "outputs": [
    {
     "name": "stdout",
     "output_type": "stream",
     "text": [
      "Accuracy: 0.6285714285714286\n",
      "Classification Report:\n",
      "               precision    recall  f1-score   support\n",
      "\n",
      "    negative       0.62      0.88      0.73        49\n",
      "     neutral       0.68      0.51      0.58        37\n",
      "    positive       0.50      0.21      0.30        19\n",
      "\n",
      "    accuracy                           0.63       105\n",
      "   macro avg       0.60      0.53      0.54       105\n",
      "weighted avg       0.62      0.63      0.60       105\n",
      "\n"
     ]
    }
   ],
   "source": [
    "from sklearn.naive_bayes import MultinomialNB\n",
    "from sklearn.metrics import accuracy_score, classification_report\n",
    "\n",
    "# Melatih model Naive Bayes\n",
    "model = MultinomialNB()\n",
    "model.fit(X_train_tfidf, y_train)\n",
    "\n",
    "# Memprediksi pada set pengujian\n",
    "y_pred = model.predict(X_test_tfidf)\n",
    "\n",
    "# Evaluasi model\n",
    "print(\"Accuracy:\", accuracy_score(y_test, y_pred))\n",
    "print(\"Classification Report:\\n\", classification_report(y_test, y_pred))\n"
   ]
  },
  {
   "cell_type": "code",
   "execution_count": 20,
   "metadata": {},
   "outputs": [],
   "source": [
    "#Saving Model\n",
    "import joblib\n",
    "joblib.dump(model,open('nbmodel.pkl',\"wb\"))\n",
    "joblib.dump(tfidf, open('tfidf_vect.pkl',\"wb\"))"
   ]
  }
 ],
 "metadata": {
  "kernelspec": {
   "display_name": "NBC",
   "language": "python",
   "name": "python3"
  },
  "language_info": {
   "codemirror_mode": {
    "name": "ipython",
    "version": 3
   },
   "file_extension": ".py",
   "mimetype": "text/x-python",
   "name": "python",
   "nbconvert_exporter": "python",
   "pygments_lexer": "ipython3",
   "version": "3.12.1"
  }
 },
 "nbformat": 4,
 "nbformat_minor": 2
}
